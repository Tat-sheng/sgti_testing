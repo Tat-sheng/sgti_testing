{
 "cells": [
  {
   "cell_type": "markdown",
   "metadata": {},
   "source": [
    "# SGTI Scoring Comparison\n",
    "\n",
    "\n",
    "\n",
    "**Report (3-5 Pages)**\n",
    "- Problems encountered\n",
    "- Hit rate percentages\n",
    "\n",
    "**Work done**\n",
    "- Response matching \n",
    "- Score matching\n",
    "- Visualising outputs"
   ]
  },
  {
   "cell_type": "markdown",
   "metadata": {},
   "source": [
    "**Load packages and data**\n",
    "-"
   ]
  },
  {
   "cell_type": "code",
   "execution_count": 345,
   "metadata": {},
   "outputs": [],
   "source": [
    "import pandas as pd\n",
    "import numpy as np\n",
    "import warnings\n",
    "warnings.filterwarnings(\"ignore\")\n",
    "\n",
    "## For Response ============================\n",
    "\n",
    "resp_ext = pd.read_excel(r'SGTI 2021 - Extraction.xls', sheet_name = 'Responses', index_col= 'Unnamed: 1', header = 2)\n",
    "resp_sgti = pd.read_excel(r'SGTI 2021 - Extraction.xls', sheet_name = 'SGTI Coding All', index_col= 'COMPANY NAME', header = 0)\n",
    "\n",
    "## For Scoring =============================\n",
    "\n",
    "scor_ext = pd.read_excel(r'SGTI 2021 - Extraction.xls', sheet_name = 'Scores', index_col= 'Unnamed: 1', header = 2)\n",
    "scor_sgti = pd.read_excel(r'SGTI 2021 - Extraction.xls', sheet_name = 'SGTI Scoring All', index_col= 'COMPANY NAME', header = 0)"
   ]
  },
  {
   "cell_type": "markdown",
   "metadata": {},
   "source": [
    "**Pre-processing data**\n",
    "-"
   ]
  },
  {
   "cell_type": "code",
   "execution_count": 346,
   "metadata": {},
   "outputs": [],
   "source": [
    "# Clean extracted dfs\n",
    "def clean_ext(ext_df): \n",
    "    ext_df  = ext_df.iloc[1:, 3:]\n",
    "    return ext_df\n",
    "\n",
    "# Cleaning sgti dfs\n",
    "def clean_sgti(sgti_df):\n",
    "    sgti_df = sgti_df.iloc[:, 3:]\n",
    "    sgti_df = sgti_df.dropna(how= 'all', axis = 1).infer_objects()\n",
    "    return sgti_df"
   ]
  },
  {
   "cell_type": "code",
   "execution_count": 347,
   "metadata": {},
   "outputs": [
    {
     "name": "stdout",
     "output_type": "stream",
     "text": [
      "['Shape is (57, 173)', 'Shape is (57, 173)']\n"
     ]
    }
   ],
   "source": [
    "# Assign df and verify shape\n",
    "ext_list = resp_ext, scor_ext = clean_ext(resp_ext), clean_ext(scor_ext)\n",
    "print(['Shape is ' + str(i.shape) for i in ext_list])"
   ]
  },
  {
   "cell_type": "code",
   "execution_count": 348,
   "metadata": {},
   "outputs": [
    {
     "name": "stdout",
     "output_type": "stream",
     "text": [
      "['Shape is (130, 165)', 'Shape is (519, 104)']\n"
     ]
    }
   ],
   "source": [
    "# Assign df and verify shape\n",
    "sgti_list = resp_sgti, scor_sgti = clean_sgti(resp_sgti), clean_sgti(scor_sgti)\n",
    "print(['Shape is ' + str(i.shape) for i in sgti_list])"
   ]
  },
  {
   "cell_type": "markdown",
   "metadata": {},
   "source": [
    "**Creating a standard format**\n",
    "-\n",
    "**For extraction**\n",
    "- Obtain list of companies from extraction\n",
    "- Filter down all matching questions, count all missing and extra columns and report\n",
    "\n",
    "**For original**\n",
    "- Obtain list of Questions for 2021 testing\n",
    "- Filter down to just the companies from extraction\n",
    "\n",
    "**Output**\n",
    "- A dataframe with all SGTI provided columns, but extracted data"
   ]
  },
  {
   "cell_type": "code",
   "execution_count": 349,
   "metadata": {},
   "outputs": [],
   "source": [
    "def convert_dtypes(fuk): \n",
    "    return fuk.set_axis([str(i) for i in fuk.columns.tolist()], axis =1)\n",
    "\n",
    "dfs = resp_ext, resp_sgti, scor_ext, scor_ext\n",
    "resp_ext, resp_sgti, scor_ext, scor_ext = [convert_dtypes(fuk) for fuk in dfs]"
   ]
  },
  {
   "cell_type": "code",
   "execution_count": 350,
   "metadata": {},
   "outputs": [],
   "source": [
    "def parse_dfs(ext_df, sgti_df):\n",
    "\n",
    "    # In-scope questions list\n",
    "    questions = [str(i) for i in sgti_df.columns.tolist()]\n",
    "\n",
    "    # Matching the columns against qn list\n",
    "    output, cols = pd.DataFrame(), [str(i) for i in ext_df.columns.tolist()]\n",
    "\n",
    "    # ext_df = ext_df.set_axis(cols, axis = 1)\n",
    "    # sgti_df = sgti_df.set_axis(questions, axis = 1)\n",
    "    missing_qns = []\n",
    "    for i in questions:\n",
    "        if i in cols:\n",
    "            output[i] = ext_df[i].values.tolist()\n",
    "        else:\n",
    "            missing_qns.append(i)\n",
    "\n",
    "    # Print metrics (Uncomment to see)\n",
    "    # print('Number of missing questions: ' + str(len(missing_qns)))\n",
    "    # print('Missing questions are: ' + str(missing_qns))\n",
    "    # print('Data has ' + str(output.shape[0])+' rows and ' +str(output.shape[1])+' columns')\n",
    "\n",
    "\n",
    "    return output.set_axis(ext_df.index, axis =0 , inplace = False).replace(['Yes', 'No'], ['Y', 'N']).fillna(0)"
   ]
  },
  {
   "cell_type": "markdown",
   "metadata": {},
   "source": [
    "**Responses**\n",
    "-"
   ]
  },
  {
   "cell_type": "code",
   "execution_count": 351,
   "metadata": {},
   "outputs": [],
   "source": [
    "resp = parse_dfs(resp_ext, resp_sgti)"
   ]
  },
  {
   "cell_type": "markdown",
   "metadata": {},
   "source": [
    "**Scoring**\n",
    "-"
   ]
  },
  {
   "cell_type": "code",
   "execution_count": 352,
   "metadata": {},
   "outputs": [],
   "source": [
    "## Matching scoring\n",
    "scor = parse_dfs(scor_ext, scor_sgti)"
   ]
  },
  {
   "cell_type": "markdown",
   "metadata": {},
   "source": [
    "**Matching Algo**\n",
    "-\n",
    "\n",
    "- Compare the differences between non-missing questions \n",
    "- Show percentages and scores for each question\n",
    "\n",
    "\n",
    "**Demo**\n",
    "- Performed using one company 3CNERGY LIMITED"
   ]
  },
  {
   "cell_type": "code",
   "execution_count": 353,
   "metadata": {},
   "outputs": [],
   "source": [
    "# Standardising the original df, needs generated ext cols to create a 1-1 match\n",
    "def compare_dfs(ext_df, sgti_df, company):\n",
    "\n",
    "    # Obtain comparables using previous function\n",
    "    previous = parse_dfs(ext_df, sgti_df)\n",
    "    companies = list(ext_df.index.values)\n",
    "    final_cols = previous.columns.tolist()\n",
    "    final_col_len = len(final_cols)\n",
    "\n",
    "    sgti = sgti_df.loc[companies, final_cols].fillna(0)\n",
    "\n",
    "    # Comparing the two \n",
    "    comp = sgti.compare(previous, align_axis = 0)\n",
    "    comp = comp.loc[company].dropna(how = 'all', axis =1 )\n",
    "    comp_len = len(comp)\n",
    "\n",
    "    accuracy = round(100*(1-(comp_len/final_col_len)), 1)\n",
    "\n",
    "    # print('Accuracy: ' + str(accuracy))\n",
    "    return comp, accuracy"
   ]
  },
  {
   "cell_type": "code",
   "execution_count": 354,
   "metadata": {},
   "outputs": [
    {
     "data": {
      "text/html": [
       "<div>\n",
       "<style scoped>\n",
       "    .dataframe tbody tr th:only-of-type {\n",
       "        vertical-align: middle;\n",
       "    }\n",
       "\n",
       "    .dataframe tbody tr th {\n",
       "        vertical-align: top;\n",
       "    }\n",
       "\n",
       "    .dataframe thead th {\n",
       "        text-align: right;\n",
       "    }\n",
       "</style>\n",
       "<table border=\"1\" class=\"dataframe\">\n",
       "  <thead>\n",
       "    <tr style=\"text-align: right;\">\n",
       "      <th></th>\n",
       "      <th>28</th>\n",
       "      <th>29</th>\n",
       "      <th>32</th>\n",
       "      <th>37</th>\n",
       "      <th>C.1.12</th>\n",
       "      <th>D.6.3</th>\n",
       "      <th>D.8.1</th>\n",
       "      <th>NCG13</th>\n",
       "      <th>67</th>\n",
       "      <th>72</th>\n",
       "      <th>73</th>\n",
       "      <th>75</th>\n",
       "      <th>76</th>\n",
       "      <th>NCG10</th>\n",
       "      <th>79</th>\n",
       "      <th>RGG02</th>\n",
       "      <th>21</th>\n",
       "      <th>71</th>\n",
       "      <th>B.1.1(B)</th>\n",
       "      <th>C.1.1(B)</th>\n",
       "      <th>RGG03</th>\n",
       "      <th>85</th>\n",
       "    </tr>\n",
       "  </thead>\n",
       "  <tbody>\n",
       "    <tr>\n",
       "      <th>self</th>\n",
       "      <td>3</td>\n",
       "      <td>2</td>\n",
       "      <td>B3</td>\n",
       "      <td>E</td>\n",
       "      <td>N</td>\n",
       "      <td>Y</td>\n",
       "      <td>Y</td>\n",
       "      <td>N</td>\n",
       "      <td>3</td>\n",
       "      <td>0</td>\n",
       "      <td>0</td>\n",
       "      <td>0</td>\n",
       "      <td>0</td>\n",
       "      <td>3</td>\n",
       "      <td>0.0</td>\n",
       "      <td>0</td>\n",
       "      <td>2</td>\n",
       "      <td>2.0</td>\n",
       "      <td>0</td>\n",
       "      <td>0</td>\n",
       "      <td>0</td>\n",
       "      <td>2.0</td>\n",
       "    </tr>\n",
       "    <tr>\n",
       "      <th>other</th>\n",
       "      <td>3</td>\n",
       "      <td>2</td>\n",
       "      <td>Disclosure in Bands</td>\n",
       "      <td>N</td>\n",
       "      <td>0.0</td>\n",
       "      <td>0.0</td>\n",
       "      <td>0.0</td>\n",
       "      <td>Y</td>\n",
       "      <td>Y</td>\n",
       "      <td>N</td>\n",
       "      <td>N</td>\n",
       "      <td>N</td>\n",
       "      <td>N</td>\n",
       "      <td>Y</td>\n",
       "      <td>N</td>\n",
       "      <td>N</td>\n",
       "      <td>Y</td>\n",
       "      <td>Y</td>\n",
       "      <td>N</td>\n",
       "      <td>N</td>\n",
       "      <td>N</td>\n",
       "      <td>0.0</td>\n",
       "    </tr>\n",
       "  </tbody>\n",
       "</table>\n",
       "</div>"
      ],
      "text/plain": [
       "      28 29                   32 37 C.1.12 D.6.3 D.8.1 NCG13 67 72 73 75 76  \\\n",
       "self   3  2                   B3  E      N     Y     Y     N  3  0  0  0  0   \n",
       "other  3  2  Disclosure in Bands  N    0.0   0.0   0.0     Y  Y  N  N  N  N   \n",
       "\n",
       "      NCG10   79 RGG02 21   71 B.1.1(B) C.1.1(B) RGG03   85  \n",
       "self      3  0.0     0  2  2.0        0        0     0  2.0  \n",
       "other     Y    N     N  Y    Y        N        N     N  0.0  "
      ]
     },
     "execution_count": 354,
     "metadata": {},
     "output_type": "execute_result"
    }
   ],
   "source": [
    "compare_dfs(resp_ext, resp_sgti, '3CNERGY LIMITED')[0]"
   ]
  },
  {
   "cell_type": "code",
   "execution_count": 355,
   "metadata": {},
   "outputs": [
    {
     "data": {
      "text/html": [
       "<div>\n",
       "<style scoped>\n",
       "    .dataframe tbody tr th:only-of-type {\n",
       "        vertical-align: middle;\n",
       "    }\n",
       "\n",
       "    .dataframe tbody tr th {\n",
       "        vertical-align: top;\n",
       "    }\n",
       "\n",
       "    .dataframe thead th {\n",
       "        text-align: right;\n",
       "    }\n",
       "</style>\n",
       "<table border=\"1\" class=\"dataframe\">\n",
       "  <thead>\n",
       "    <tr style=\"text-align: right;\">\n",
       "      <th></th>\n",
       "      <th>3</th>\n",
       "      <th>10</th>\n",
       "      <th>11</th>\n",
       "      <th>12-13</th>\n",
       "      <th>37</th>\n",
       "      <th>A.3.16</th>\n",
       "      <th>A.3.15</th>\n",
       "      <th>B.5.2</th>\n",
       "      <th>D.6.4</th>\n",
       "      <th>NCG13</th>\n",
       "      <th>67</th>\n",
       "      <th>NCG10</th>\n",
       "      <th>21</th>\n",
       "      <th>71</th>\n",
       "    </tr>\n",
       "  </thead>\n",
       "  <tbody>\n",
       "    <tr>\n",
       "      <th>self</th>\n",
       "      <td>3.0</td>\n",
       "      <td>2.0</td>\n",
       "      <td>0.0</td>\n",
       "      <td>0.0</td>\n",
       "      <td>1.0</td>\n",
       "      <td>2.0</td>\n",
       "      <td>2.0</td>\n",
       "      <td>2.0</td>\n",
       "      <td>1.0</td>\n",
       "      <td>0.0</td>\n",
       "      <td>3.0</td>\n",
       "      <td>3.0</td>\n",
       "      <td>2.0</td>\n",
       "      <td>2.0</td>\n",
       "    </tr>\n",
       "    <tr>\n",
       "      <th>other</th>\n",
       "      <td>0.0</td>\n",
       "      <td>1.0</td>\n",
       "      <td>10.0</td>\n",
       "      <td>1.0</td>\n",
       "      <td>0.0</td>\n",
       "      <td>1.0</td>\n",
       "      <td>1.0</td>\n",
       "      <td>1.0</td>\n",
       "      <td>0.0</td>\n",
       "      <td>1.0</td>\n",
       "      <td>1.0</td>\n",
       "      <td>1.0</td>\n",
       "      <td>1.0</td>\n",
       "      <td>1.0</td>\n",
       "    </tr>\n",
       "  </tbody>\n",
       "</table>\n",
       "</div>"
      ],
      "text/plain": [
       "         3   10    11  12-13   37  A.3.16  A.3.15  B.5.2  D.6.4  NCG13   67  \\\n",
       "self   3.0  2.0   0.0    0.0  1.0     2.0     2.0    2.0    1.0    0.0  3.0   \n",
       "other  0.0  1.0  10.0    1.0  0.0     1.0     1.0    1.0    0.0    1.0  1.0   \n",
       "\n",
       "       NCG10   21   71  \n",
       "self     3.0  2.0  2.0  \n",
       "other    1.0  1.0  1.0  "
      ]
     },
     "execution_count": 355,
     "metadata": {},
     "output_type": "execute_result"
    }
   ],
   "source": [
    "compare_dfs(scor_ext, scor_sgti, '3CNERGY LIMITED')[0]"
   ]
  },
  {
   "cell_type": "markdown",
   "metadata": {},
   "source": [
    "**Average Accuracy metric**\n",
    "-\n",
    "\n",
    "- Obtains the average of all accuracy scores for all companies that are extracted.\n",
    "\n"
   ]
  },
  {
   "cell_type": "code",
   "execution_count": 360,
   "metadata": {},
   "outputs": [],
   "source": [
    "def obtain_avg_acc(ext_df, sgti_df):\n",
    "    companies = list(ext_df.index.values)   \n",
    "    list_acc = [compare_dfs(ext_df, sgti_df, i)[1] for i in companies]\n",
    "    return np.mean(list_acc)"
   ]
  },
  {
   "cell_type": "code",
   "execution_count": 359,
   "metadata": {},
   "outputs": [
    {
     "data": {
      "text/plain": [
       "98.7"
      ]
     },
     "execution_count": 359,
     "metadata": {},
     "output_type": "execute_result"
    }
   ],
   "source": [
    "obtain_avg_acc(resp_ext, resp_sgti)"
   ]
  },
  {
   "cell_type": "code",
   "execution_count": 358,
   "metadata": {},
   "outputs": [
    {
     "data": {
      "text/plain": [
       "97.8"
      ]
     },
     "execution_count": 358,
     "metadata": {},
     "output_type": "execute_result"
    }
   ],
   "source": [
    "obtain_avg_acc(scor_ext, scor_sgti)"
   ]
  }
 ],
 "metadata": {
  "kernelspec": {
   "display_name": "Python 3.10.7 64-bit",
   "language": "python",
   "name": "python3"
  },
  "language_info": {
   "codemirror_mode": {
    "name": "ipython",
    "version": 3
   },
   "file_extension": ".py",
   "mimetype": "text/x-python",
   "name": "python",
   "nbconvert_exporter": "python",
   "pygments_lexer": "ipython3",
   "version": "3.10.7"
  },
  "orig_nbformat": 4,
  "vscode": {
   "interpreter": {
    "hash": "b7da478affe01d998ba032614fda288b4c91404150a78dc872243ca143d7bb35"
   }
  }
 },
 "nbformat": 4,
 "nbformat_minor": 2
}
